{
  "nbformat": 4,
  "nbformat_minor": 0,
  "metadata": {
    "colab": {
      "name": "MNIST_NN",
      "provenance": []
    },
    "kernelspec": {
      "name": "python3",
      "display_name": "Python 3"
    },
    "language_info": {
      "name": "python"
    }
  },
  "cells": [
    {
      "cell_type": "code",
      "execution_count": null,
      "metadata": {
        "id": "OavILDbSHPPh"
      },
      "outputs": [],
      "source": [
        "from numpy import mean,std\n",
        "from matplotlib import pyplot as plt\n",
        "from sklearn.model_selection import KFold\n",
        "from tensorflow.keras.datasets import mnist\n",
        "from tensorflow.keras.utils import to_categorical\n",
        "from tensorflow.keras.models import Sequential\n",
        "from tensorflow.keras.layers import Conv2D,MaxPooling2D,Dense,Flatten\n",
        "from tensorflow.keras.optimizers import Adam"
      ]
    },
    {
      "cell_type": "code",
      "source": [
        "# load dataset\n",
        "(trainX, trainy), (testX, testy) = mnist.load_data()\n",
        "# summarize loaded dataset\n",
        "print('Train: X=%s, y=%s' % (trainX.shape, trainy.shape))\n",
        "print('Test: X=%s, y=%s' % (testX.shape, testy.shape))"
      ],
      "metadata": {
        "colab": {
          "base_uri": "https://localhost:8080/"
        },
        "id": "iOaMLw0QHfjt",
        "outputId": "64add445-d452-4d81-ed10-3be5ca22e260"
      },
      "execution_count": null,
      "outputs": [
        {
          "output_type": "stream",
          "name": "stdout",
          "text": [
            "Downloading data from https://storage.googleapis.com/tensorflow/tf-keras-datasets/mnist.npz\n",
            "11493376/11490434 [==============================] - 0s 0us/step\n",
            "11501568/11490434 [==============================] - 0s 0us/step\n",
            "Train: X=(60000, 28, 28), y=(60000,)\n",
            "Test: X=(10000, 28, 28), y=(10000,)\n"
          ]
        }
      ]
    },
    {
      "cell_type": "code",
      "source": [
        "(trainX, trainY), (testX, testY) = mnist.load_data()\n",
        "\n",
        "# reshape dataset to have a single channel\n",
        "trainX = trainX.reshape((trainX.shape[0], 28, 28, 1))\n",
        "testX = testX.reshape((testX.shape[0], 28, 28, 1))"
      ],
      "metadata": {
        "id": "Cndr2PeeHjXv"
      },
      "execution_count": null,
      "outputs": []
    },
    {
      "cell_type": "code",
      "source": [
        "from tensorflow.keras.utils import to_categorical\n",
        "\n",
        "# one hot encode target values\n",
        "trainY = to_categorical(trainY)\n",
        "testY = to_categorical(testY)"
      ],
      "metadata": {
        "id": "zSA8zZZFHppC"
      },
      "execution_count": null,
      "outputs": []
    },
    {
      "cell_type": "code",
      "source": [
        "# convert from integers to floats\n",
        "train_norm = trainX.astype('float32')\n",
        "test_norm = testX.astype('float32')\n",
        "# normalize to range 0-1\n",
        "trainX = train_norm / 255.0\n",
        "testX = test_norm / 255.0"
      ],
      "metadata": {
        "id": "o6MzqGsDHtbg"
      },
      "execution_count": null,
      "outputs": []
    },
    {
      "cell_type": "markdown",
      "source": [
        "Model 1"
      ],
      "metadata": {
        "id": "EGzSJjnQHxWI"
      }
    },
    {
      "cell_type": "code",
      "source": [
        "def define_model_1():\n",
        "\tmodel = Sequential()\n",
        "\tmodel.add(Flatten(input_shape=(28, 28)))\n",
        "\tmodel.add(Dense(150, activation='relu'))\n",
        "\tmodel.add(Dense(10, activation='softmax'))\n",
        "\t# compile model\n",
        "\topt = Adam(learning_rate=0.01)\n",
        "\tmodel.compile(optimizer=opt, loss='categorical_crossentropy', metrics=['accuracy'])\n",
        "\treturn model"
      ],
      "metadata": {
        "id": "JB2-VI-BH5bo"
      },
      "execution_count": null,
      "outputs": []
    },
    {
      "cell_type": "code",
      "source": [
        "# evaluate a model using k-fold cross-validation\n",
        "def evaluate_model_1():\n",
        "    scores, histories = list(), list()\n",
        "    # define model\n",
        "    model = define_model_1()\n",
        "    print(model.summary())\n",
        "    # fit model\n",
        "    history = model.fit(trainX, trainY, epochs=10, batch_size=32, validation_data=(testX, testY), verbose=1)\n",
        "    # evaluate model\n",
        "    _, acc = model.evaluate(testX, testY, verbose=1)\n",
        "    print('> %.3f' % (acc * 100.0))\n",
        "    # stores scores\n",
        "    scores.append(acc)\n",
        "    histories.append(history)\n",
        "    return scores, histories"
      ],
      "metadata": {
        "id": "iBVv0menIOBS"
      },
      "execution_count": null,
      "outputs": []
    },
    {
      "cell_type": "code",
      "source": [
        "scores, histories = evaluate_model_1()"
      ],
      "metadata": {
        "colab": {
          "base_uri": "https://localhost:8080/"
        },
        "id": "6Ol-eJ6hIQgb",
        "outputId": "d97bddb8-74b4-42d8-ed8a-8db204d742db"
      },
      "execution_count": null,
      "outputs": [
        {
          "output_type": "stream",
          "name": "stdout",
          "text": [
            "Model: \"sequential_9\"\n",
            "_________________________________________________________________\n",
            " Layer (type)                Output Shape              Param #   \n",
            "=================================================================\n",
            " flatten_9 (Flatten)         (None, 784)               0         \n",
            "                                                                 \n",
            " dense_22 (Dense)            (None, 150)               117750    \n",
            "                                                                 \n",
            " dense_23 (Dense)            (None, 10)                1510      \n",
            "                                                                 \n",
            "=================================================================\n",
            "Total params: 119,260\n",
            "Trainable params: 119,260\n",
            "Non-trainable params: 0\n",
            "_________________________________________________________________\n",
            "None\n",
            "Epoch 1/10\n",
            "1875/1875 [==============================] - 5s 3ms/step - loss: 0.2385 - accuracy: 0.9306 - val_loss: 0.1608 - val_accuracy: 0.9529\n",
            "Epoch 2/10\n",
            "1875/1875 [==============================] - 5s 3ms/step - loss: 0.1590 - accuracy: 0.9565 - val_loss: 0.1570 - val_accuracy: 0.9561\n",
            "Epoch 3/10\n",
            "1875/1875 [==============================] - 5s 3ms/step - loss: 0.1410 - accuracy: 0.9618 - val_loss: 0.1649 - val_accuracy: 0.9581\n",
            "Epoch 4/10\n",
            "1875/1875 [==============================] - 5s 3ms/step - loss: 0.1348 - accuracy: 0.9650 - val_loss: 0.1984 - val_accuracy: 0.9540\n",
            "Epoch 5/10\n",
            "1875/1875 [==============================] - 5s 3ms/step - loss: 0.1209 - accuracy: 0.9679 - val_loss: 0.2114 - val_accuracy: 0.9561\n",
            "Epoch 6/10\n",
            "1875/1875 [==============================] - 5s 3ms/step - loss: 0.1198 - accuracy: 0.9702 - val_loss: 0.2292 - val_accuracy: 0.9533\n",
            "Epoch 7/10\n",
            "1875/1875 [==============================] - 5s 3ms/step - loss: 0.1085 - accuracy: 0.9728 - val_loss: 0.1932 - val_accuracy: 0.9660\n",
            "Epoch 8/10\n",
            "1875/1875 [==============================] - 5s 3ms/step - loss: 0.1078 - accuracy: 0.9733 - val_loss: 0.2127 - val_accuracy: 0.9657\n",
            "Epoch 9/10\n",
            "1875/1875 [==============================] - 5s 3ms/step - loss: 0.1032 - accuracy: 0.9757 - val_loss: 0.2045 - val_accuracy: 0.9647\n",
            "Epoch 10/10\n",
            "1875/1875 [==============================] - 5s 3ms/step - loss: 0.0975 - accuracy: 0.9763 - val_loss: 0.2568 - val_accuracy: 0.9618\n",
            "313/313 [==============================] - 1s 2ms/step - loss: 0.2568 - accuracy: 0.9618\n",
            "> 96.180\n"
          ]
        }
      ]
    },
    {
      "cell_type": "markdown",
      "source": [
        "Model 2\n"
      ],
      "metadata": {
        "id": "MUvZK4v1O2tt"
      }
    },
    {
      "cell_type": "code",
      "source": [
        "def define_model_2():\n",
        "    model = Sequential()\n",
        "    model.add(Flatten(input_shape=(28, 28)))\n",
        "    model.add(Dense(200, activation='relu'))\n",
        "    model.add(Dense(170, activation='relu'))\n",
        "    model.add(Dense(50, activation='relu'))\n",
        "    model.add(Dense(10, activation='softmax'))\n",
        "    # compile model\n",
        "    opt = Adam(learning_rate=0.01)\n",
        "    model.compile(optimizer=opt, loss='categorical_crossentropy', metrics=['accuracy'])\n",
        "    return model"
      ],
      "metadata": {
        "id": "xkNBk6_gO5xm"
      },
      "execution_count": null,
      "outputs": []
    },
    {
      "cell_type": "code",
      "source": [
        "# evaluate a model using k-fold cross-validation\n",
        "def evaluate_model_2():\n",
        "    scores, histories = list(), list()\n",
        "    # define model\n",
        "    model = define_model_2()\n",
        "    print(model.summary())\n",
        "    # fit model\n",
        "    history = model.fit(trainX, trainY, epochs=10, batch_size=32, validation_data=(testX, testY), verbose=1)\n",
        "    # evaluate model\n",
        "    _, acc = model.evaluate(testX, testY, verbose=1)\n",
        "    print('> %.3f' % (acc * 100.0))\n",
        "    # stores scores\n",
        "    scores.append(acc)\n",
        "    histories.append(history)\n",
        "    return scores, histories"
      ],
      "metadata": {
        "id": "rEW6M4H0PM_7"
      },
      "execution_count": null,
      "outputs": []
    },
    {
      "cell_type": "code",
      "source": [
        "scores, histories = evaluate_model_2()"
      ],
      "metadata": {
        "colab": {
          "base_uri": "https://localhost:8080/"
        },
        "id": "Mzd-Bw0uPRS8",
        "outputId": "33895227-e00b-4175-818b-8e4be3bbffdb"
      },
      "execution_count": null,
      "outputs": [
        {
          "output_type": "stream",
          "name": "stdout",
          "text": [
            "Model: \"sequential_7\"\n",
            "_________________________________________________________________\n",
            " Layer (type)                Output Shape              Param #   \n",
            "=================================================================\n",
            " flatten_7 (Flatten)         (None, 784)               0         \n",
            "                                                                 \n",
            " dense_16 (Dense)            (None, 200)               157000    \n",
            "                                                                 \n",
            " dense_17 (Dense)            (None, 170)               34170     \n",
            "                                                                 \n",
            " dense_18 (Dense)            (None, 50)                8550      \n",
            "                                                                 \n",
            " dense_19 (Dense)            (None, 10)                510       \n",
            "                                                                 \n",
            "=================================================================\n",
            "Total params: 200,230\n",
            "Trainable params: 200,230\n",
            "Non-trainable params: 0\n",
            "_________________________________________________________________\n",
            "None\n",
            "Epoch 1/10\n",
            "1875/1875 [==============================] - 7s 4ms/step - loss: 0.2999 - accuracy: 0.9169 - val_loss: 0.1792 - val_accuracy: 0.9521\n",
            "Epoch 2/10\n",
            "1875/1875 [==============================] - 7s 4ms/step - loss: 0.2023 - accuracy: 0.9484 - val_loss: 0.1763 - val_accuracy: 0.9567\n",
            "Epoch 3/10\n",
            "1875/1875 [==============================] - 7s 3ms/step - loss: 0.1741 - accuracy: 0.9573 - val_loss: 0.1836 - val_accuracy: 0.9570\n",
            "Epoch 4/10\n",
            "1875/1875 [==============================] - 6s 3ms/step - loss: 0.1602 - accuracy: 0.9614 - val_loss: 0.1789 - val_accuracy: 0.9582\n",
            "Epoch 5/10\n",
            "1875/1875 [==============================] - 7s 3ms/step - loss: 0.1517 - accuracy: 0.9645 - val_loss: 0.2327 - val_accuracy: 0.9564\n",
            "Epoch 6/10\n",
            "1875/1875 [==============================] - 6s 3ms/step - loss: 0.1378 - accuracy: 0.9683 - val_loss: 0.1616 - val_accuracy: 0.9636\n",
            "Epoch 7/10\n",
            "1875/1875 [==============================] - 6s 3ms/step - loss: 0.1391 - accuracy: 0.9687 - val_loss: 0.2047 - val_accuracy: 0.9582\n",
            "Epoch 8/10\n",
            "1875/1875 [==============================] - 7s 3ms/step - loss: 0.1291 - accuracy: 0.9704 - val_loss: 0.1747 - val_accuracy: 0.9642\n",
            "Epoch 9/10\n",
            "1875/1875 [==============================] - 6s 3ms/step - loss: 0.1161 - accuracy: 0.9732 - val_loss: 0.1737 - val_accuracy: 0.9642\n",
            "Epoch 10/10\n",
            "1875/1875 [==============================] - 7s 3ms/step - loss: 0.1278 - accuracy: 0.9720 - val_loss: 0.1993 - val_accuracy: 0.9655\n",
            "313/313 [==============================] - 1s 2ms/step - loss: 0.1993 - accuracy: 0.9655\n",
            "> 96.550\n"
          ]
        }
      ]
    }
  ]
}